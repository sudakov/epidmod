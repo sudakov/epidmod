{
 "cells": [
  {
   "cell_type": "markdown",
   "id": "8a520763",
   "metadata": {},
   "source": [
    "# Network model of epidemic\n",
    "\n",
    "The reported study was funded by RFBR and CNPq, FASIE, DBT, DST, MOST, NSFC, SAMRC  according to the research project No 20-51-80002"
   ]
  },
  {
   "cell_type": "code",
   "execution_count": 1,
   "id": "91249623",
   "metadata": {},
   "outputs": [],
   "source": [
    "import networkx as nx\n",
    "import numpy as np\n",
    "import torch\n",
    "import matplotlib.pyplot as plt"
   ]
  },
  {
   "cell_type": "code",
   "execution_count": 2,
   "id": "731eb149",
   "metadata": {},
   "outputs": [
    {
     "data": {
      "text/plain": [
       "(10000, 1000, 500, 0)"
      ]
     },
     "execution_count": 2,
     "metadata": {},
     "output_type": "execute_result"
    }
   ],
   "source": [
    "POPULATION   = 10000\n",
    "p_exposed    = int(POPULATION * 0.1)\n",
    "p_infectious = int(POPULATION * 0.05)\n",
    "p_removed    = 0\n",
    "T = 75\n",
    "END_OF_TIMES = 1000000\n",
    "\n",
    "infectious_lambda = 1/0.186 # распределение вейбула αˆ= and λˆ=\n",
    "infectious_alpha = 1.24\n",
    "\n",
    "removed_lambda = 16.5 # mean = 14.46 \n",
    "removed_alpha = 2.5   # sd = 6\n",
    "\n",
    "death_rate = 0.03\n",
    "infectious_rate = 0.0258\n",
    "\n",
    "POPULATION, p_exposed, p_infectious, p_removed"
   ]
  },
  {
   "cell_type": "code",
   "execution_count": 3,
   "id": "2b2ee0b7",
   "metadata": {},
   "outputs": [],
   "source": [
    "G = nx.watts_strogatz_graph(POPULATION, 13, 0.2) #4"
   ]
  },
  {
   "cell_type": "code",
   "execution_count": 4,
   "id": "72e71525",
   "metadata": {},
   "outputs": [],
   "source": [
    "# nx.draw(G)"
   ]
  },
  {
   "cell_type": "code",
   "execution_count": 5,
   "id": "b0424e21",
   "metadata": {},
   "outputs": [],
   "source": [
    "nx.adjacency_matrix(G)\n",
    "A = nx.adjacency_matrix(G)"
   ]
  },
  {
   "cell_type": "code",
   "execution_count": 6,
   "id": "e9dbd4a5",
   "metadata": {},
   "outputs": [],
   "source": [
    "AM = torch.tensor(A.todense())"
   ]
  },
  {
   "cell_type": "code",
   "execution_count": 7,
   "id": "5f7e3ef9",
   "metadata": {},
   "outputs": [],
   "source": [
    "state = torch.zeros(POPULATION)"
   ]
  },
  {
   "cell_type": "code",
   "execution_count": 8,
   "id": "76d5bcc6",
   "metadata": {},
   "outputs": [],
   "source": [
    "# 0 - S: The susceptible individuals. When a susceptible and an infectious individual come into \"infectious contact\", the susceptible individual contracts the disease and transitions to the infectious compartment.\n",
    "# 1 - E: Exposed. For many important infections, there is a significant incubation period during which individuals have been infected but are not yet infectious themselves. During this period the individual is in compartment E (for exposed).\n",
    "# 2 - I: The infectious individuals. These are individuals who have been infected and are capable of infecting susceptible individuals.\n",
    "# 3 - R: The removed (and immune) or deceased individuals"
   ]
  },
  {
   "cell_type": "code",
   "execution_count": 9,
   "id": "6b807feb",
   "metadata": {},
   "outputs": [],
   "source": [
    "state[0:p_exposed] = 1"
   ]
  },
  {
   "cell_type": "code",
   "execution_count": 10,
   "id": "5a1fa38c",
   "metadata": {},
   "outputs": [],
   "source": [
    "state[p_exposed:p_exposed+p_infectious]=2"
   ]
  },
  {
   "cell_type": "code",
   "execution_count": 11,
   "id": "01ca8bea",
   "metadata": {},
   "outputs": [],
   "source": [
    "state = state[torch.randperm(state.nelement())]"
   ]
  },
  {
   "cell_type": "code",
   "execution_count": 12,
   "id": "7af8fb53",
   "metadata": {},
   "outputs": [],
   "source": [
    "tau = torch.full([POPULATION], END_OF_TIMES)"
   ]
  },
  {
   "cell_type": "code",
   "execution_count": 13,
   "id": "edb80c1f",
   "metadata": {},
   "outputs": [],
   "source": [
    "ei_distr = torch.distributions.Weibull(torch.tensor([infectious_lambda]), torch.tensor([infectious_alpha]))\n",
    "ir_distr = torch.distributions.Weibull(torch.tensor([removed_lambda]), torch.tensor([removed_alpha]))"
   ]
  },
  {
   "cell_type": "code",
   "execution_count": 14,
   "id": "1ed3bc0e",
   "metadata": {},
   "outputs": [
    {
     "name": "stdout",
     "output_type": "stream",
     "text": [
      "0\n",
      "8208 1180 611 1\n",
      "1\n",
      "7888 1321 784 7\n",
      "2\n",
      "7573 1444 971 12\n",
      "3\n",
      "7242 1524 1211 23\n",
      "4\n",
      "6911 1605 1448 36\n",
      "5\n",
      "6585 1675 1689 51\n",
      "6\n",
      "6264 1686 1976 74\n",
      "7\n",
      "5941 1707 2242 110\n",
      "8\n",
      "5636 1749 2443 172\n",
      "9\n",
      "5326 1763 2678 233\n",
      "10\n",
      "5066 1721 2906 307\n",
      "11\n",
      "4805 1657 3131 407\n",
      "12\n",
      "4556 1623 3291 530\n",
      "13\n",
      "4318 1569 3472 641\n",
      "14\n",
      "4103 1511 3593 793\n",
      "15\n",
      "3906 1431 3705 958\n",
      "16\n",
      "3712 1365 3784 1139\n",
      "17\n",
      "3528 1268 3847 1357\n",
      "18\n",
      "3359 1177 3901 1563\n",
      "19\n",
      "3210 1098 3923 1769\n",
      "20\n",
      "3085 995 3933 1987\n",
      "21\n",
      "2941 949 3885 2225\n",
      "22\n",
      "2819 905 3792 2484\n",
      "23\n",
      "2723 831 3680 2766\n",
      "24\n",
      "2640 758 3593 3009\n",
      "25\n",
      "2554 714 3487 3245\n",
      "26\n",
      "2471 664 3333 3532\n",
      "27\n",
      "2392 619 3202 3787\n",
      "28\n",
      "2310 579 3051 4060\n",
      "29\n",
      "2253 520 2935 4292\n",
      "30\n",
      "2207 464 2771 4558\n",
      "31\n",
      "2151 420 2645 4784\n",
      "32\n",
      "2106 389 2499 5006\n",
      "33\n",
      "2067 346 2366 5221\n",
      "34\n",
      "2022 326 2228 5424\n",
      "35\n",
      "1978 318 2087 5617\n",
      "36\n",
      "1930 321 1941 5808\n",
      "37\n",
      "1904 284 1816 5996\n",
      "38\n",
      "1874 256 1709 6161\n",
      "39\n",
      "1862 219 1587 6332\n",
      "40\n",
      "1841 189 1474 6496\n",
      "41\n",
      "1827 153 1406 6614\n",
      "42\n",
      "1810 139 1296 6755\n",
      "43\n",
      "1794 126 1187 6893\n",
      "44\n",
      "1779 120 1074 7027\n",
      "45\n",
      "1766 103 995 7136\n",
      "46\n",
      "1756 96 890 7258\n",
      "47\n",
      "1744 88 812 7356\n",
      "48\n",
      "1729 89 725 7457\n",
      "49\n",
      "1722 75 667 7536\n",
      "50\n",
      "1709 73 615 7603\n",
      "51\n",
      "1700 70 561 7669\n",
      "52\n",
      "1693 60 512 7735\n",
      "53\n",
      "1691 52 462 7795\n",
      "54\n",
      "1687 41 425 7847\n",
      "55\n",
      "1684 38 388 7890\n",
      "56\n",
      "1684 28 359 7929\n",
      "57\n",
      "1683 24 318 7975\n",
      "58\n",
      "1681 21 294 8004\n",
      "59\n",
      "1679 19 260 8042\n",
      "60\n",
      "1676 18 231 8075\n",
      "61\n",
      "1673 17 207 8103\n",
      "62\n",
      "1671 14 189 8126\n",
      "63\n",
      "1670 12 175 8143\n",
      "64\n",
      "1668 12 162 8158\n",
      "65\n",
      "1667 7 151 8175\n",
      "66\n",
      "1666 6 134 8194\n",
      "67\n",
      "1665 5 122 8208\n",
      "68\n",
      "1665 5 106 8224\n",
      "69\n",
      "1664 6 89 8241\n",
      "70\n",
      "1664 4 74 8258\n",
      "71\n",
      "1663 5 63 8269\n",
      "72\n",
      "1662 4 59 8275\n",
      "73\n",
      "1662 4 49 8285\n",
      "74\n",
      "1660 4 47 8289\n"
     ]
    }
   ],
   "source": [
    "for t in range(T):\n",
    "    print(t)\n",
    "    idx = (state == 1) & (tau == END_OF_TIMES)\n",
    "    tau[idx] = torch.reshape(ei_distr.sample(tau[idx].size()).long(),(-1,)) + t\n",
    "\n",
    "    idx = (state == 2) & (tau == END_OF_TIMES)\n",
    "    tau[idx] = torch.reshape(ir_distr.sample(tau[idx].size()).long(),(-1,)) + t\n",
    "    # print(tau)\n",
    "    \n",
    "    # Susceptible -> Exposed\n",
    "    p = 1-(1-infectious_rate)**torch.sum((AM * (state==1)), dim=1)\n",
    "    x = torch.rand(len(AM))\n",
    "    idx = (x <= p) & (state==0)\n",
    "    state[idx] = 1\n",
    "    tau[idx] = END_OF_TIMES\n",
    "    \n",
    "    p = 1-(1-(infectious_rate/8))**torch.sum((AM * (state==2)), dim=1)\n",
    "    x = torch.rand(len(AM))\n",
    "    idx = (x <= p) & (state==0)\n",
    "    state[idx] = 1\n",
    "    tau[idx] = END_OF_TIMES\n",
    "    \n",
    "    # Exposed -> Infectious\n",
    "    idx = (state == 1) & (tau == t)\n",
    "    state[idx] = 2\n",
    "    tau[idx] = END_OF_TIMES\n",
    "\n",
    "    # Infectious -> Removed\n",
    "    idx = (state == 2) & (tau == t)\n",
    "    state[idx] = 3\n",
    "    tau[idx] = END_OF_TIMES\n",
    "    print(int(sum(state==0)),int(sum(state==1)),int(sum(state==2)),int(sum(state==3)))"
   ]
  },
  {
   "cell_type": "code",
   "execution_count": null,
   "id": "661a452c",
   "metadata": {},
   "outputs": [],
   "source": []
  }
 ],
 "metadata": {
  "kernelspec": {
   "display_name": "Python 3",
   "language": "python",
   "name": "python3"
  },
  "language_info": {
   "codemirror_mode": {
    "name": "ipython",
    "version": 3
   },
   "file_extension": ".py",
   "mimetype": "text/x-python",
   "name": "python",
   "nbconvert_exporter": "python",
   "pygments_lexer": "ipython3",
   "version": "3.9.3"
  }
 },
 "nbformat": 4,
 "nbformat_minor": 5
}
